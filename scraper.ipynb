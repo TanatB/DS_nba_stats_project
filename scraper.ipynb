{
 "cells": [
  {
   "cell_type": "markdown",
   "id": "847f7ff4",
   "metadata": {},
   "source": [
    "# Data Scraping Using Python Selenium and BeautifulSoup"
   ]
  },
  {
   "cell_type": "markdown",
   "id": "00ea420d",
   "metadata": {},
   "source": [
    "By Tanat Metmaolee"
   ]
  },
  {
   "cell_type": "markdown",
   "id": "28e06116",
   "metadata": {},
   "source": [
    "## References\n",
    "    Nick's Niche: https://www.youtube.com/watch?v=GLhRlY-3QwE&t=1269s\n",
    "    NBA: https://www.nba.com/stats/players\n",
    "    ESPN: https://www.espn.com/nba/stats/player/_/season/2023/seasontype/2"
   ]
  },
  {
   "cell_type": "code",
   "execution_count": 25,
   "id": "3d83b9cf",
   "metadata": {},
   "outputs": [
    {
     "name": "stdout",
     "output_type": "stream",
     "text": [
      "Successfully imported.\n"
     ]
    }
   ],
   "source": [
    "import time\n",
    "from bs4 import BeautifulSoup\n",
    "from selenium import webdriver\n",
    "from selenium.webdriver.common.by import By\n",
    "from selenium.webdriver.chrome.options import Options\n",
    "from webdriver_manager.chrome import ChromeDriverManager\n",
    "from selenium.webdriver.support.ui import Select\n",
    "from selenium.webdriver.support.wait import WebDriverWait\n",
    "from selenium.webdriver.support import expected_conditions as EC\n",
    "from selenium.common.exceptions import TimeoutException\n",
    "from selenium.common.exceptions import NoSuchElementException\n",
    "from selenium.webdriver.chrome.service import Service\n",
    "import pandas as pd\n",
    "\n",
    "print(\"Successfully imported.\")"
   ]
  },
  {
   "cell_type": "code",
   "execution_count": 26,
   "id": "0faadb11",
   "metadata": {},
   "outputs": [
    {
     "name": "stdout",
     "output_type": "stream",
     "text": [
      "<selenium.webdriver.chrome.options.Options object at 0x000001C2C7C9CEF0>\n"
     ]
    }
   ],
   "source": [
    "# Selenium Browser Built-in Options\n",
    "options = webdriver.ChromeOptions()\n",
    "print(options)\n",
    "\n",
    "# Selenium 3, without having to update chromedriver to keep up its version\n",
    "driver = webdriver.Chrome(service=Service(ChromeDriverManager().install()), options= options)"
   ]
  },
  {
   "cell_type": "markdown",
   "id": "01356408",
   "metadata": {},
   "source": [
    "## Things that need to be done\n",
    "    1. Scrape data from NBA website.\n",
    "    2. Scrape player's position from ESPN website (or NBA website with automation).\n",
    "Personally, I will go for a position scraping from ESPN website and join 2 dataframes together later."
   ]
  },
  {
   "cell_type": "code",
   "execution_count": 27,
   "id": "0b607594",
   "metadata": {},
   "outputs": [],
   "source": [
    "def get_dataset(season, season_type, sleep_time):\n",
    "    \"\"\"\n",
    "    Scraping the data using Selenium and BeautifulSoup.\n",
    "    \n",
    "    :param  season (str): Season we would like to store data from. Format is 'xxxx-xx' eg. '2022-23'.\n",
    "            season_type (str): Type of season. Format =  ['Regular', 'Preseason', 'Playoffs'].\n",
    "            sleep_time (int): In case the system is running slow, use sleep time. Otherwise, use 0.\n",
    "    \"\"\"\n",
    "    \n",
    "    ss_type = {'Regular': 'Regular+Season',\n",
    "               'Preseason': 'Pre+Season',\n",
    "               'Playoffs': 'Playoffs'}\n",
    "    \n",
    "    # URL that we are going to navigate to\n",
    "    # url = f'https://www.nba.com/stats/players/traditional?PerMode=Totals&sort=PTS&dir=-1&SeasonType={ss_type[season_type]}&Season={season}'\n",
    "    url = f'https://www.nba.com/stats/leaders?SeasonType={ss_type[season_type]}&PerMode=Totals&Season={season}'\n",
    "    driver.get(url)\n",
    "    \n",
    "    # In case the pc is running slow\n",
    "    time.sleep(sleep_time)\n",
    "\n",
    "    # Select \"All\" Drop down Page to show all the players at once\n",
    "    select = Select(driver.find_element(By.XPATH, \"/html/body/div/div/div/div/section/div/div/div/div/div/div/label/div/select\"))\n",
    "    select.select_by_visible_text(\"All\")\n",
    "    \n",
    "    # Use BeautifulSoup to scrape the dataset\n",
    "    soup = BeautifulSoup(driver.page_source, \"html.parser\")\n",
    "    \n",
    "    # Find the headers of each column\n",
    "    header_parser = soup.find('tr', attrs = {'class' : 'Crom_headers__mzI_m'})\n",
    "    \n",
    "    # we sliced the header because 0 is index & 30 or above are Rank Point for each categories.\n",
    "    headers = [header.get_text() for header in header_parser.find_all('th')[1:30]]\n",
    "    \n",
    "    # Find the records of each player\n",
    "    table = soup.find('tbody', attrs = {'class' : 'Crom_body__UYOcU'})\n",
    "    records = table.find_all('tr')\n",
    "    \n",
    "    stats = [[td.get_text() for td in records[i].find_all('td')[1:]] for i in range(len(records))]\n",
    "    \n",
    "    player_stats = pd.DataFrame(stats)\n",
    "    \n",
    "    pd.DataFrame.to_csv(player_stats, f\"raw_player_stats_{season}.csv\", header = headers, index = False)\n",
    "    print(\"NBA Stats' CSV is succesfully exported.\")"
   ]
  },
  {
   "cell_type": "code",
   "execution_count": 28,
   "id": "38837ad3",
   "metadata": {},
   "outputs": [],
   "source": [
    "def get_player_position(season, season_type):\n",
    "    \"\"\"\n",
    "    \n",
    "    season format: xxxx e.g. 2023\n",
    "    \"\"\"\n",
    "    \n",
    "    parts = {'regular' : '2', 'post' : '3'}\n",
    "    players, positions = [], []\n",
    "    page_count = 1\n",
    "    \n",
    "    url = f'https://www.espn.com/nba/stats/player/_/season/{season}/seasontype/{parts[season_type]}'\n",
    "    driver.get(url)\n",
    "    \n",
    "    while True:\n",
    "        try:\n",
    "            loadMore_button = driver.find_element(By.XPATH, '//a[@class=\"AnchorLink loadMore__link\"]')\n",
    "            page_count += 1\n",
    "            # print(f\"Loaded Page {page_count}.\")\n",
    "            loadMore_button.click()\n",
    "            \n",
    "            wait = WebDriverWait(driver, 5)\n",
    "            element = wait.until(EC.element_to_be_clickable((By.XPATH, \"//a[@class='AnchorLink loadMore__link']\")))\n",
    "        \n",
    "        except TimeoutException:\n",
    "            # print('end.')\n",
    "            break\n",
    "        \n",
    "        except NoSuchElementException:\n",
    "            break\n",
    "    \n",
    "    soup = BeautifulSoup(driver.page_source, \"html.parser\")\n",
    "    \n",
    "    # Find the player names and index them accordingly.\n",
    "    player_table = soup.find('tbody', attrs = {'class' : 'Table__TBODY'})\n",
    "    player_records = player_table.find_all('tr')\n",
    "    players = [player_records[i].find('a', attrs = {'class' : 'AnchorLink'}).get_text() for i in range(len(player_records))]\n",
    "    \n",
    "    # Find each player positions accordingly.\n",
    "    table_right = soup.find('table', attrs = {'class' : 'Table Table--align-right'})\n",
    "    table_body = table_right.find('tbody', attrs = {'class' : 'Table__TBODY'})\n",
    "    each_table = table_body.find_all('tr')\n",
    "\n",
    "    positions = [each_table[i].find('div', attrs = {'class' : 'position'}).get_text() for i in range(len(each_table))]\n",
    "    \n",
    "    # Map Each Players in to their position accordingly.\n",
    "    player_pos = {'Player' : players, 'POS' : positions}\n",
    "    raw_player_pos_df = pd.DataFrame(player_pos)\n",
    "    \n",
    "    pd.DataFrame.to_csv(raw_player_pos_df, f\"raw_player_pos_{season}.csv\", index = False)\n",
    "    print(\"NBA Player Positions' CSV exported successfully.\")"
   ]
  },
  {
   "cell_type": "code",
   "execution_count": 32,
   "id": "30f88cb9",
   "metadata": {},
   "outputs": [],
   "source": [
    "espn_season, espn_season_type = '2024', 'regular'\n",
    "nba_season, nba_season_type = '2023-24', 'Regular'"
   ]
  },
  {
   "cell_type": "code",
   "execution_count": 30,
   "id": "c300707b",
   "metadata": {},
   "outputs": [
    {
     "name": "stdout",
     "output_type": "stream",
     "text": [
      "NBA Player Positions' CSV exported successfully.\n"
     ]
    }
   ],
   "source": [
    "# Test the function\n",
    "get_player_position(espn_season, espn_season_type)"
   ]
  },
  {
   "cell_type": "code",
   "execution_count": 33,
   "id": "ec096e7a",
   "metadata": {
    "scrolled": true
   },
   "outputs": [
    {
     "name": "stdout",
     "output_type": "stream",
     "text": [
      "NBA Stats' CSV is succesfully exported.\n"
     ]
    }
   ],
   "source": [
    "# Test the function\n",
    "get_dataset(nba_season, nba_season_type, 5)"
   ]
  },
  {
   "cell_type": "code",
   "execution_count": 34,
   "id": "be90a241",
   "metadata": {
    "scrolled": false
   },
   "outputs": [],
   "source": [
    "player_stats = pd.read_csv(f'raw_player_stats_{nba_season}.csv')\n",
    "player_positions = pd.read_csv(f'raw_player_pos_{espn_season}.csv')"
   ]
  },
  {
   "cell_type": "code",
   "execution_count": null,
   "id": "35e5c01e",
   "metadata": {},
   "outputs": [
    {
     "data": {
      "text/html": [
       "<div>\n",
       "<style scoped>\n",
       "    .dataframe tbody tr th:only-of-type {\n",
       "        vertical-align: middle;\n",
       "    }\n",
       "\n",
       "    .dataframe tbody tr th {\n",
       "        vertical-align: top;\n",
       "    }\n",
       "\n",
       "    .dataframe thead th {\n",
       "        text-align: right;\n",
       "    }\n",
       "</style>\n",
       "<table border=\"1\" class=\"dataframe\">\n",
       "  <thead>\n",
       "    <tr style=\"text-align: right;\">\n",
       "      <th></th>\n",
       "      <th>Player</th>\n",
       "      <th>Team</th>\n",
       "      <th>Age</th>\n",
       "      <th>GP</th>\n",
       "      <th>W</th>\n",
       "      <th>L</th>\n",
       "      <th>Min</th>\n",
       "      <th>PTS</th>\n",
       "      <th>FGM</th>\n",
       "      <th>FGA</th>\n",
       "      <th>...</th>\n",
       "      <th>REB</th>\n",
       "      <th>AST</th>\n",
       "      <th>TOV</th>\n",
       "      <th>STL</th>\n",
       "      <th>BLK</th>\n",
       "      <th>PF</th>\n",
       "      <th>FP</th>\n",
       "      <th>DD2</th>\n",
       "      <th>TD3</th>\n",
       "      <th>+/-</th>\n",
       "    </tr>\n",
       "  </thead>\n",
       "  <tbody>\n",
       "    <tr>\n",
       "      <th>0</th>\n",
       "      <td>Jayson Tatum</td>\n",
       "      <td>BOS</td>\n",
       "      <td>25</td>\n",
       "      <td>74</td>\n",
       "      <td>52</td>\n",
       "      <td>22</td>\n",
       "      <td>2732.2</td>\n",
       "      <td>2225</td>\n",
       "      <td>727</td>\n",
       "      <td>1559</td>\n",
       "      <td>...</td>\n",
       "      <td>649</td>\n",
       "      <td>342</td>\n",
       "      <td>213</td>\n",
       "      <td>78</td>\n",
       "      <td>51</td>\n",
       "      <td>160</td>\n",
       "      <td>3691</td>\n",
       "      <td>31</td>\n",
       "      <td>1</td>\n",
       "      <td>470</td>\n",
       "    </tr>\n",
       "    <tr>\n",
       "      <th>1</th>\n",
       "      <td>Joel Embiid</td>\n",
       "      <td>PHI</td>\n",
       "      <td>29</td>\n",
       "      <td>66</td>\n",
       "      <td>43</td>\n",
       "      <td>23</td>\n",
       "      <td>2284.1</td>\n",
       "      <td>2183</td>\n",
       "      <td>728</td>\n",
       "      <td>1328</td>\n",
       "      <td>...</td>\n",
       "      <td>670</td>\n",
       "      <td>274</td>\n",
       "      <td>226</td>\n",
       "      <td>66</td>\n",
       "      <td>112</td>\n",
       "      <td>205</td>\n",
       "      <td>3706</td>\n",
       "      <td>39</td>\n",
       "      <td>1</td>\n",
       "      <td>424</td>\n",
       "    </tr>\n",
       "    <tr>\n",
       "      <th>2</th>\n",
       "      <td>Luka Doncic</td>\n",
       "      <td>DAL</td>\n",
       "      <td>24</td>\n",
       "      <td>66</td>\n",
       "      <td>33</td>\n",
       "      <td>33</td>\n",
       "      <td>2390.5</td>\n",
       "      <td>2138</td>\n",
       "      <td>719</td>\n",
       "      <td>1449</td>\n",
       "      <td>...</td>\n",
       "      <td>569</td>\n",
       "      <td>529</td>\n",
       "      <td>236</td>\n",
       "      <td>90</td>\n",
       "      <td>33</td>\n",
       "      <td>166</td>\n",
       "      <td>3747</td>\n",
       "      <td>36</td>\n",
       "      <td>10</td>\n",
       "      <td>128</td>\n",
       "    </tr>\n",
       "    <tr>\n",
       "      <th>3</th>\n",
       "      <td>Shai Gilgeous-Alexander</td>\n",
       "      <td>OKC</td>\n",
       "      <td>24</td>\n",
       "      <td>68</td>\n",
       "      <td>33</td>\n",
       "      <td>35</td>\n",
       "      <td>2416.0</td>\n",
       "      <td>2135</td>\n",
       "      <td>704</td>\n",
       "      <td>1381</td>\n",
       "      <td>...</td>\n",
       "      <td>329</td>\n",
       "      <td>371</td>\n",
       "      <td>192</td>\n",
       "      <td>112</td>\n",
       "      <td>65</td>\n",
       "      <td>192</td>\n",
       "      <td>3425</td>\n",
       "      <td>3</td>\n",
       "      <td>0</td>\n",
       "      <td>149</td>\n",
       "    </tr>\n",
       "    <tr>\n",
       "      <th>4</th>\n",
       "      <td>Giannis Antetokounmpo</td>\n",
       "      <td>MIL</td>\n",
       "      <td>28</td>\n",
       "      <td>63</td>\n",
       "      <td>47</td>\n",
       "      <td>16</td>\n",
       "      <td>2023.6</td>\n",
       "      <td>1959</td>\n",
       "      <td>707</td>\n",
       "      <td>1278</td>\n",
       "      <td>...</td>\n",
       "      <td>742</td>\n",
       "      <td>359</td>\n",
       "      <td>246</td>\n",
       "      <td>52</td>\n",
       "      <td>51</td>\n",
       "      <td>197</td>\n",
       "      <td>3451</td>\n",
       "      <td>46</td>\n",
       "      <td>6</td>\n",
       "      <td>341</td>\n",
       "    </tr>\n",
       "  </tbody>\n",
       "</table>\n",
       "<p>5 rows × 29 columns</p>\n",
       "</div>"
      ],
      "text/plain": [
       "                    Player Team  Age  GP   W   L     Min   PTS  FGM   FGA  \\\n",
       "0             Jayson Tatum  BOS   25  74  52  22  2732.2  2225  727  1559   \n",
       "1              Joel Embiid  PHI   29  66  43  23  2284.1  2183  728  1328   \n",
       "2              Luka Doncic  DAL   24  66  33  33  2390.5  2138  719  1449   \n",
       "3  Shai Gilgeous-Alexander  OKC   24  68  33  35  2416.0  2135  704  1381   \n",
       "4    Giannis Antetokounmpo  MIL   28  63  47  16  2023.6  1959  707  1278   \n",
       "\n",
       "   ...  REB  AST  TOV  STL  BLK   PF    FP  DD2  TD3  +/-  \n",
       "0  ...  649  342  213   78   51  160  3691   31    1  470  \n",
       "1  ...  670  274  226   66  112  205  3706   39    1  424  \n",
       "2  ...  569  529  236   90   33  166  3747   36   10  128  \n",
       "3  ...  329  371  192  112   65  192  3425    3    0  149  \n",
       "4  ...  742  359  246   52   51  197  3451   46    6  341  \n",
       "\n",
       "[5 rows x 29 columns]"
      ]
     },
     "execution_count": 8,
     "metadata": {},
     "output_type": "execute_result"
    }
   ],
   "source": [
    "player_stats.head()"
   ]
  },
  {
   "cell_type": "code",
   "execution_count": 35,
   "id": "5c4bd291",
   "metadata": {},
   "outputs": [
    {
     "data": {
      "text/html": [
       "<div>\n",
       "<style scoped>\n",
       "    .dataframe tbody tr th:only-of-type {\n",
       "        vertical-align: middle;\n",
       "    }\n",
       "\n",
       "    .dataframe tbody tr th {\n",
       "        vertical-align: top;\n",
       "    }\n",
       "\n",
       "    .dataframe thead th {\n",
       "        text-align: right;\n",
       "    }\n",
       "</style>\n",
       "<table border=\"1\" class=\"dataframe\">\n",
       "  <thead>\n",
       "    <tr style=\"text-align: right;\">\n",
       "      <th></th>\n",
       "      <th>Player</th>\n",
       "      <th>POS</th>\n",
       "    </tr>\n",
       "  </thead>\n",
       "  <tbody>\n",
       "    <tr>\n",
       "      <th>0</th>\n",
       "      <td>Luka Doncic</td>\n",
       "      <td>PG</td>\n",
       "    </tr>\n",
       "    <tr>\n",
       "      <th>1</th>\n",
       "      <td>Giannis Antetokounmpo</td>\n",
       "      <td>PF</td>\n",
       "    </tr>\n",
       "    <tr>\n",
       "      <th>2</th>\n",
       "      <td>Shai Gilgeous-Alexander</td>\n",
       "      <td>PG</td>\n",
       "    </tr>\n",
       "    <tr>\n",
       "      <th>3</th>\n",
       "      <td>Jalen Brunson</td>\n",
       "      <td>PG</td>\n",
       "    </tr>\n",
       "    <tr>\n",
       "      <th>4</th>\n",
       "      <td>Kevin Durant</td>\n",
       "      <td>PF</td>\n",
       "    </tr>\n",
       "  </tbody>\n",
       "</table>\n",
       "</div>"
      ],
      "text/plain": [
       "                    Player POS\n",
       "0              Luka Doncic  PG\n",
       "1    Giannis Antetokounmpo  PF\n",
       "2  Shai Gilgeous-Alexander  PG\n",
       "3            Jalen Brunson  PG\n",
       "4             Kevin Durant  PF"
      ]
     },
     "execution_count": 35,
     "metadata": {},
     "output_type": "execute_result"
    }
   ],
   "source": [
    "player_positions.head()"
   ]
  }
 ],
 "metadata": {
  "kernelspec": {
   "display_name": "Python 3 (ipykernel)",
   "language": "python",
   "name": "python3"
  },
  "language_info": {
   "codemirror_mode": {
    "name": "ipython",
    "version": 3
   },
   "file_extension": ".py",
   "mimetype": "text/x-python",
   "name": "python",
   "nbconvert_exporter": "python",
   "pygments_lexer": "ipython3",
   "version": "3.12.4"
  }
 },
 "nbformat": 4,
 "nbformat_minor": 5
}
